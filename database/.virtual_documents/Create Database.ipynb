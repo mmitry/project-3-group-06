# Import the dependencies
import pandas as pd
import numpy as np
import datetime

# ORM Stuff
from sqlalchemy import create_engine, inspect, text


df = pd.read_csv("""""""""""''.csv")
df.head()


df.info()


# Data Cleaning
df.loc[3378, "Date"] = "02/23/1975"
df.loc[7512, "Date"] = "04/28/1985"
df.loc[20650, "Date"] = "03/13/2011"
df['Date'] = pd.to_datetime(df['Date'], format="%m/%d/%Y")


df.info()


# New Columns
df["Year"] = df.Date.dt.year
df["Month"] = df.Date.dt.month

df.head()


# WRITE TO DATABASE


engine = create_engine("sqlite:///earthquakes.sqlite")


# Random sample for SPEED
df2 = df.sample(500)
df2.head()


# Write to SQL (NOTE I AM USING con=engine) THIS IS WHAT WORKS APPARENTLY WHEN WRITING OUT DATA
df2.to_sql(name="earthquakes", con=engine, index=False, if_exists="append", method="multi")


# Create the inspector and connect it to the engine
inspector = inspect(engine)

# Collect the names of tables within the database
tables = inspector.get_table_names()

# Using the inspector to print the column names within the 'dow' table and its types
for table in tables:
    print(table)
    print("--------")
    columns = inspector.get_columns(table)
    for column in columns:
        print(column["name"], column["type"])

    print()


engine.dispose()



