{
 "cells": [
  {
   "cell_type": "code",
   "execution_count": 1,
   "id": "3e258418-852b-4a61-b989-390d97b9fd36",
   "metadata": {},
   "outputs": [],
   "source": [
    "# Import the dependencies\n",
    "import pandas as pd\n",
    "import numpy as np\n",
    "import datetime\n",
    "\n",
    "# ORM Stuff\n",
    "from sqlalchemy import create_engine, inspect, text"
   ]
  },
  {
   "cell_type": "code",
   "execution_count": 2,
   "id": "22e68ebb-b80f-43f4-9e61-15c2a8cd60ca",
   "metadata": {},
   "outputs": [
    {
     "data": {
      "text/html": [
       "<div>\n",
       "<style scoped>\n",
       "    .dataframe tbody tr th:only-of-type {\n",
       "        vertical-align: middle;\n",
       "    }\n",
       "\n",
       "    .dataframe tbody tr th {\n",
       "        vertical-align: top;\n",
       "    }\n",
       "\n",
       "    .dataframe thead th {\n",
       "        text-align: right;\n",
       "    }\n",
       "</style>\n",
       "<table border=\"1\" class=\"dataframe\">\n",
       "  <thead>\n",
       "    <tr style=\"text-align: right;\">\n",
       "      <th></th>\n",
       "      <th>Year</th>\n",
       "      <th>Player Name</th>\n",
       "      <th>Player Position</th>\n",
       "      <th>Team Name</th>\n",
       "      <th>G</th>\n",
       "      <th>AB</th>\n",
       "      <th>R</th>\n",
       "      <th>H</th>\n",
       "      <th>2B</th>\n",
       "      <th>3B</th>\n",
       "      <th>HR</th>\n",
       "      <th>RBI</th>\n",
       "      <th>BB</th>\n",
       "      <th>SO</th>\n",
       "      <th>SB</th>\n",
       "      <th>CS</th>\n",
       "      <th>AVG</th>\n",
       "      <th>OBP</th>\n",
       "      <th>SLG</th>\n",
       "      <th>OPS</th>\n",
       "    </tr>\n",
       "  </thead>\n",
       "  <tbody>\n",
       "    <tr>\n",
       "      <th>0</th>\n",
       "      <td>2022</td>\n",
       "      <td>Aaron Judge</td>\n",
       "      <td>CF</td>\n",
       "      <td>NYY</td>\n",
       "      <td>157</td>\n",
       "      <td>570</td>\n",
       "      <td>133</td>\n",
       "      <td>177</td>\n",
       "      <td>28</td>\n",
       "      <td>0</td>\n",
       "      <td>62</td>\n",
       "      <td>131</td>\n",
       "      <td>111</td>\n",
       "      <td>175</td>\n",
       "      <td>16</td>\n",
       "      <td>3</td>\n",
       "      <td>0.311</td>\n",
       "      <td>0.425</td>\n",
       "      <td>0.686</td>\n",
       "      <td>1.111</td>\n",
       "    </tr>\n",
       "    <tr>\n",
       "      <th>1</th>\n",
       "      <td>2022</td>\n",
       "      <td>Yordan Alvarez</td>\n",
       "      <td>DH</td>\n",
       "      <td>HOU</td>\n",
       "      <td>135</td>\n",
       "      <td>470</td>\n",
       "      <td>95</td>\n",
       "      <td>144</td>\n",
       "      <td>29</td>\n",
       "      <td>2</td>\n",
       "      <td>37</td>\n",
       "      <td>97</td>\n",
       "      <td>78</td>\n",
       "      <td>106</td>\n",
       "      <td>1</td>\n",
       "      <td>1</td>\n",
       "      <td>0.306</td>\n",
       "      <td>0.406</td>\n",
       "      <td>0.613</td>\n",
       "      <td>1.019</td>\n",
       "    </tr>\n",
       "    <tr>\n",
       "      <th>2</th>\n",
       "      <td>2022</td>\n",
       "      <td>Paul Goldschmidt</td>\n",
       "      <td>1B</td>\n",
       "      <td>STL</td>\n",
       "      <td>151</td>\n",
       "      <td>561</td>\n",
       "      <td>106</td>\n",
       "      <td>178</td>\n",
       "      <td>41</td>\n",
       "      <td>0</td>\n",
       "      <td>35</td>\n",
       "      <td>115</td>\n",
       "      <td>79</td>\n",
       "      <td>141</td>\n",
       "      <td>7</td>\n",
       "      <td>0</td>\n",
       "      <td>0.317</td>\n",
       "      <td>0.404</td>\n",
       "      <td>0.578</td>\n",
       "      <td>0.982</td>\n",
       "    </tr>\n",
       "    <tr>\n",
       "      <th>3</th>\n",
       "      <td>2022</td>\n",
       "      <td>Jose Altuve</td>\n",
       "      <td>2B</td>\n",
       "      <td>HOU</td>\n",
       "      <td>141</td>\n",
       "      <td>527</td>\n",
       "      <td>103</td>\n",
       "      <td>158</td>\n",
       "      <td>39</td>\n",
       "      <td>0</td>\n",
       "      <td>28</td>\n",
       "      <td>57</td>\n",
       "      <td>66</td>\n",
       "      <td>87</td>\n",
       "      <td>18</td>\n",
       "      <td>1</td>\n",
       "      <td>0.300</td>\n",
       "      <td>0.387</td>\n",
       "      <td>0.533</td>\n",
       "      <td>0.920</td>\n",
       "    </tr>\n",
       "    <tr>\n",
       "      <th>4</th>\n",
       "      <td>2022</td>\n",
       "      <td>Freddie Freeman</td>\n",
       "      <td>1B</td>\n",
       "      <td>LAD</td>\n",
       "      <td>159</td>\n",
       "      <td>612</td>\n",
       "      <td>117</td>\n",
       "      <td>199</td>\n",
       "      <td>47</td>\n",
       "      <td>2</td>\n",
       "      <td>21</td>\n",
       "      <td>100</td>\n",
       "      <td>84</td>\n",
       "      <td>102</td>\n",
       "      <td>13</td>\n",
       "      <td>3</td>\n",
       "      <td>0.325</td>\n",
       "      <td>0.407</td>\n",
       "      <td>0.511</td>\n",
       "      <td>0.918</td>\n",
       "    </tr>\n",
       "  </tbody>\n",
       "</table>\n",
       "</div>"
      ],
      "text/plain": [
       "   Year       Player Name Player Position Team Name    G   AB    R    H  2B  \\\n",
       "0  2022       Aaron Judge              CF       NYY  157  570  133  177  28   \n",
       "1  2022    Yordan Alvarez              DH       HOU  135  470   95  144  29   \n",
       "2  2022  Paul Goldschmidt              1B       STL  151  561  106  178  41   \n",
       "3  2022       Jose Altuve              2B       HOU  141  527  103  158  39   \n",
       "4  2022   Freddie Freeman              1B       LAD  159  612  117  199  47   \n",
       "\n",
       "   3B  HR  RBI   BB   SO  SB  CS    AVG    OBP    SLG    OPS  \n",
       "0   0  62  131  111  175  16   3  0.311  0.425  0.686  1.111  \n",
       "1   2  37   97   78  106   1   1  0.306  0.406  0.613  1.019  \n",
       "2   0  35  115   79  141   7   0  0.317  0.404  0.578  0.982  \n",
       "3   0  28   57   66   87  18   1  0.300  0.387  0.533  0.920  \n",
       "4   2  21  100   84  102  13   3  0.325  0.407  0.511  0.918  "
      ]
     },
     "execution_count": 2,
     "metadata": {},
     "output_type": "execute_result"
    }
   ],
   "source": [
    "df = pd.read_csv(\"Resources/2019_2022_mlb_hitting_leaders.csv\")\n",
    "df.head()"
   ]
  },
  {
   "cell_type": "code",
   "execution_count": 3,
   "id": "cb2e3806-cf63-4512-93de-c9f8587151ed",
   "metadata": {},
   "outputs": [
    {
     "name": "stdout",
     "output_type": "stream",
     "text": [
      "<class 'pandas.core.frame.DataFrame'>\n",
      "RangeIndex: 539 entries, 0 to 538\n",
      "Data columns (total 20 columns):\n",
      " #   Column           Non-Null Count  Dtype  \n",
      "---  ------           --------------  -----  \n",
      " 0   Year             539 non-null    int64  \n",
      " 1   Player Name      539 non-null    object \n",
      " 2   Player Position  539 non-null    object \n",
      " 3   Team Name        539 non-null    object \n",
      " 4   G                539 non-null    int64  \n",
      " 5   AB               539 non-null    int64  \n",
      " 6   R                539 non-null    int64  \n",
      " 7   H                539 non-null    int64  \n",
      " 8   2B               539 non-null    int64  \n",
      " 9   3B               539 non-null    int64  \n",
      " 10  HR               539 non-null    int64  \n",
      " 11  RBI              539 non-null    int64  \n",
      " 12  BB               539 non-null    int64  \n",
      " 13  SO               539 non-null    int64  \n",
      " 14  SB               539 non-null    int64  \n",
      " 15  CS               539 non-null    int64  \n",
      " 16  AVG              539 non-null    float64\n",
      " 17  OBP              539 non-null    float64\n",
      " 18  SLG              539 non-null    float64\n",
      " 19  OPS              539 non-null    float64\n",
      "dtypes: float64(4), int64(13), object(3)\n",
      "memory usage: 84.3+ KB\n"
     ]
    }
   ],
   "source": [
    "df.info()"
   ]
  },
  {
   "cell_type": "code",
   "execution_count": 4,
   "id": "e8c4c923-263c-4b68-bafe-85deb6667c2b",
   "metadata": {},
   "outputs": [],
   "source": [
    "# Data Cleaning\n",
    "# Rename columns\n",
    "df.rename(columns={\n",
    "    \"Year\": \"year\",\n",
    "    \"Player Name\": \"player_name\",\n",
    "    \"Player Position\": \"player_position\",\n",
    "    \"Team Name\": \"team_abv\"\n",
    "}, inplace=True)"
   ]
  },
  {
   "cell_type": "code",
   "execution_count": 5,
   "id": "34ee11db-b186-403e-aa6b-0b4c5837e88f",
   "metadata": {},
   "outputs": [
    {
     "name": "stdout",
     "output_type": "stream",
     "text": [
      "<class 'pandas.core.frame.DataFrame'>\n",
      "RangeIndex: 539 entries, 0 to 538\n",
      "Data columns (total 20 columns):\n",
      " #   Column           Non-Null Count  Dtype  \n",
      "---  ------           --------------  -----  \n",
      " 0   year             539 non-null    int64  \n",
      " 1   player_name      539 non-null    object \n",
      " 2   player_position  539 non-null    object \n",
      " 3   team_abv         539 non-null    object \n",
      " 4   G                539 non-null    int64  \n",
      " 5   AB               539 non-null    int64  \n",
      " 6   R                539 non-null    int64  \n",
      " 7   H                539 non-null    int64  \n",
      " 8   2B               539 non-null    int64  \n",
      " 9   3B               539 non-null    int64  \n",
      " 10  HR               539 non-null    int64  \n",
      " 11  RBI              539 non-null    int64  \n",
      " 12  BB               539 non-null    int64  \n",
      " 13  SO               539 non-null    int64  \n",
      " 14  SB               539 non-null    int64  \n",
      " 15  CS               539 non-null    int64  \n",
      " 16  AVG              539 non-null    float64\n",
      " 17  OBP              539 non-null    float64\n",
      " 18  SLG              539 non-null    float64\n",
      " 19  OPS              539 non-null    float64\n",
      "dtypes: float64(4), int64(13), object(3)\n",
      "memory usage: 84.3+ KB\n"
     ]
    }
   ],
   "source": [
    "df.info()"
   ]
  },
  {
   "cell_type": "code",
   "execution_count": 6,
   "id": "adfdb50d-e248-4e0a-b0e0-71302c7b43ae",
   "metadata": {},
   "outputs": [],
   "source": [
    "# Overwrite to new csv titled 2019_2022_mlb_hitting_leaders.csv, place in Resources folder\n",
    "df.to_csv(\"Resources/hitting_leaders.csv\", index=False)\n"
   ]
  },
  {
   "cell_type": "code",
   "execution_count": 7,
   "id": "3a14e205-8566-4fe5-8027-27da3b362cf6",
   "metadata": {},
   "outputs": [],
   "source": [
    "# Write to DB\n",
    "engine = create_engine(\"sqlite:///hitting_leaders.sqlite\")"
   ]
  },
  {
   "cell_type": "code",
   "execution_count": 8,
   "id": "13134401-d05c-42ce-a0eb-5d4751eb08c7",
   "metadata": {},
   "outputs": [
    {
     "data": {
      "text/plain": [
       "539"
      ]
     },
     "execution_count": 8,
     "metadata": {},
     "output_type": "execute_result"
    }
   ],
   "source": [
    "# Write to SQL\n",
    "df.to_sql(name=\"hitting_leaders\", con=engine, index=False, if_exists=\"append\", method=\"multi\")"
   ]
  },
  {
   "cell_type": "code",
   "execution_count": 9,
   "id": "361960eb-f7a6-4ab6-a3e4-b315b24cda20",
   "metadata": {},
   "outputs": [
    {
     "name": "stdout",
     "output_type": "stream",
     "text": [
      "hitting_leaders\n",
      "--------\n",
      "year BIGINT\n",
      "player_name TEXT\n",
      "player_position TEXT\n",
      "team_abv TEXT\n",
      "G BIGINT\n",
      "AB BIGINT\n",
      "R BIGINT\n",
      "H BIGINT\n",
      "2B BIGINT\n",
      "3B BIGINT\n",
      "HR BIGINT\n",
      "RBI BIGINT\n",
      "BB BIGINT\n",
      "SO BIGINT\n",
      "SB BIGINT\n",
      "CS BIGINT\n",
      "AVG FLOAT\n",
      "OBP FLOAT\n",
      "SLG FLOAT\n",
      "OPS FLOAT\n",
      "\n"
     ]
    }
   ],
   "source": [
    "# Create the inspector and connect\n",
    "inspector = inspect(engine)\n",
    "\n",
    "# Collect the names of tables within the database\n",
    "tables = inspector.get_table_names()\n",
    "\n",
    "# Using the inspector to print the column names within the 'dow' table and its types\n",
    "for table in tables:\n",
    "    print(table)\n",
    "    print(\"--------\")\n",
    "    columns = inspector.get_columns(table)\n",
    "    for column in columns:\n",
    "        print(column[\"name\"], column[\"type\"])\n",
    "\n",
    "    print()"
   ]
  },
  {
   "cell_type": "code",
   "execution_count": 10,
   "id": "c3f66669-700a-4148-a196-fa49c6972f09",
   "metadata": {},
   "outputs": [],
   "source": [
    "engine.dispose()"
   ]
  }
 ],
 "metadata": {
  "kernelspec": {
   "display_name": "Python 3 (ipykernel)",
   "language": "python",
   "name": "python3"
  },
  "language_info": {
   "codemirror_mode": {
    "name": "ipython",
    "version": 3
   },
   "file_extension": ".py",
   "mimetype": "text/x-python",
   "name": "python",
   "nbconvert_exporter": "python",
   "pygments_lexer": "ipython3",
   "version": "3.12.4"
  }
 },
 "nbformat": 4,
 "nbformat_minor": 5
}
