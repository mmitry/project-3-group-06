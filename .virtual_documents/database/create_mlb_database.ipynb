# Import the dependencies
import pandas as pd
import numpy as np
import datetime

# ORM Stuff
from sqlalchemy import create_engine, inspect, text


df = pd.read_csv("Resources/stadiums.csv")
df.head()


df.info()


# Data cleaning
df.rename(columns={
    "Team": "team",
    "Team_abv": "team_abv",
    "League": "league",
    "Division": "division",
    "Lat": "latitude",
    "Long": "longitude"
}, inplace=True)

df.info()


# Data Cleaning
df = df[df['league'] == 'MLB']

# Save the cleaned file
df.to_csv("Resources/stadiums_mlb.csv", index=False)

# Display the first few rows of the updated DataFrame
df


df.info()


# Table join
hitting_leaders = pd.read_csv("Resources/hitting_leaders.csv")
stadiums = pd.read_csv("Resources/stadiums_mlb.csv")

# Merge on team_abv
df2 = hitting_leaders.merge(stadiums, on='team_abv', how='left')
df2


# Reorg columns
cols = list(df2.columns)
cols.insert(cols.index('team_abv'), cols.pop(cols.index('team')))
cols.insert(cols.index('team_abv') + 1, cols.pop(cols.index('latitude')))
cols.insert(cols.index('team_abv') + 2, cols.pop(cols.index('longitude')))
df2 = df2[cols]

df2


# Remove duplicates
df3 = df2.drop_duplicates(subset=['year', 'player_name'], keep = "first")
df3 = df3.sort_values(by=['player_name'])
df3.head(50)


# Save the merged dataset
df3.to_csv("Resources/mlb_dataset.csv", index=False)


# WRITE TO DATABASE


engine = create_engine("sqlite:///mlb_dataset.sqlite")


# Write to SQL
df3.to_sql(name="mlb_dataset", con=engine, index=False, if_exists="append", method="multi")


# Create the inspector and connect
inspector = inspect(engine)

# Collect the names of tables within the database
tables = inspector.get_table_names()

# Using the inspector to print the column names within the 'dow' table and its types
for table in tables:
    print(table)
    print("--------")
    columns = inspector.get_columns(table)
    for column in columns:
        print(column["name"], column["type"])

    print()


engine.dispose()



