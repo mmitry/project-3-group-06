# Import the dependencies
import pandas as pd
import numpy as np
import datetime

# ORM Stuff
from sqlalchemy import create_engine, inspect, text


df = pd.read_csv("Resources/2019_2022_mlb_hitting_leaders.csv")
df.head()


df.info()


# Data Cleaning
# Rename columns
df.rename(columns={
    "Year": "year",
    "Player Name": "player_name",
    "Player Position": "player_position",
    "Team Name": "team_abv"
}, inplace=True)


df.info()


# Overwrite to new csv titled 2019_2022_mlb_hitting_leaders.csv, place in Resources folder
df.to_csv("Resources/hitting_leaders.csv", index=False)



# Write to DB
engine = create_engine("sqlite:///hitting_leaders.sqlite")


# Write to SQL
df.to_sql(name="hitting_leaders", con=engine, index=False, if_exists="append", method="multi")


# Create the inspector and connect
inspector = inspect(engine)

# Collect the names of tables within the database
tables = inspector.get_table_names()

# Using the inspector to print the column names within the 'dow' table and its types
for table in tables:
    print(table)
    print("--------")
    columns = inspector.get_columns(table)
    for column in columns:
        print(column["name"], column["type"])

    print()


engine.dispose()
